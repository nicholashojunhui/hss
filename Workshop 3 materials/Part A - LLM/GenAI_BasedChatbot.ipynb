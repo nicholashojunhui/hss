{
  "nbformat": 4,
  "nbformat_minor": 0,
  "metadata": {
    "colab": {
      "provenance": [],
      "toc_visible": true
    },
    "kernelspec": {
      "name": "python3",
      "display_name": "Python 3"
    },
    "language_info": {
      "name": "python"
    }
  },
  "cells": [
    {
      "cell_type": "markdown",
      "source": [
        "# Install Packages and Import Necessary Libraries"
      ],
      "metadata": {
        "id": "tyzzAmdfcg6S"
      }
    },
    {
      "cell_type": "code",
      "execution_count": null,
      "metadata": {
        "id": "X30nuhnqcgBL"
      },
      "outputs": [],
      "source": [
        "!pip install openai==1.13.3 -qqq\n",
        "\n",
        "from openai import AzureOpenAI\n",
        "import os\n",
        "import sys\n",
        "from datetime import datetime\n",
        "from google.colab import userdata"
      ]
    },
    {
      "cell_type": "markdown",
      "source": [
        "# Initialize the Azure OpenAI Client"
      ],
      "metadata": {
        "id": "RYzrEQPDcwZg"
      }
    },
    {
      "cell_type": "code",
      "source": [
        "# to configure settings here; details are uploaded on Canvas\n",
        "\n",
        "client = AzureOpenAI(\n",
        "    azure_endpoint = \"your_endpoint\",  # Replace with your Azure OpenAI endpoint\n",
        "    api_key = \"your_api_key\",  # Replace with your API key\n",
        "    api_version = \"2024-02-15-preview\"\n",
        ")"
      ],
      "metadata": {
        "id": "r-Ke34kDc7la"
      },
      "execution_count": null,
      "outputs": []
    },
    {
      "cell_type": "markdown",
      "source": [
        "# Loading and Preparing CSV Data"
      ],
      "metadata": {
        "id": "Iw_j0HiasgLK"
      }
    },
    {
      "cell_type": "code",
      "source": [
        "# Load the product data from the soft drinks CSV file. Remember to download from Canvas and upload in Colab first.\n",
        "with open(\"soft_drinks.csv\") as file:\n",
        "    product_data = file.read()\n",
        "    print(product_data)\n"
      ],
      "metadata": {
        "colab": {
          "base_uri": "https://localhost:8080/"
        },
        "id": "CFk6jiWWsi2k",
        "outputId": "79e243cd-d278-4bfb-e722-e45753457718"
      },
      "execution_count": null,
      "outputs": [
        {
          "output_type": "stream",
          "name": "stdout",
          "text": [
            "ID,Product Name,Flavor,Size (ml),Price ($),Stock,Description\n",
            "1,Coca Cola,Cola,500,1,100,Classic cola soft drink.\n",
            "2,Pepsi,Cola,500,1,100,Cola beverage with a unique twist.\n",
            "3,Sprite,Lemon-Lime,500,0.95,80,Refreshing lemon-lime soda.\n",
            "4,Fanta,Orange,500,0.95,75,Orange-flavoured soft drink.\n",
            "5,7Up,Lemon-Lime,500,0.95,85,Classic lemon-lime soda.\n",
            "\n"
          ]
        }
      ]
    },
    {
      "cell_type": "markdown",
      "source": [
        "# Define Chatbot’s Rules and Context"
      ],
      "metadata": {
        "id": "AO_Mrn-ptOsM"
      }
    },
    {
      "cell_type": "code",
      "source": [
        "# Initialize the context with interaction rules and product data\n",
        "context = []\n",
        "\n",
        "# Define the chatbot's interaction rules here, including how it should greet users, provide product information, manage order inquiries, and handle payment processing.\n",
        "\n",
        "rules = \"\"\"\n",
        "You are a virtual waiter in a soft drink café. \\\n",
        "Be cordial at all times. \\\n",
        "If customers haven't chosen yet, ask what they would like to drink. \\\n",
        "Offer recommendations if customers are undecided between the soft drinks available: Coca Cola, Pepsi, Sprite, Fanta, and 7 Up. \\\n",
        "Based on the customer's preference or past orders, you may suggest a specific drink they might enjoy. \\\n",
        "After selecting a drink, confirm their choice and ask if they'd like to add another beverage to their order. \\\n",
        "When asked for the bill, provide a summary of the selected drinks, including the quantity, name, price per item, and the total amount due. \\\n",
        "Below is your list of soft drinks available. \\\n",
        "\"\"\"\n",
        "\n",
        "context.append({'role': 'system', 'content': f\"\"\"{rules} {product_data}\"\"\"})"
      ],
      "metadata": {
        "id": "8DHotg-4tZWT"
      },
      "execution_count": null,
      "outputs": []
    },
    {
      "cell_type": "markdown",
      "source": [
        "# Craft Conversation Management Functions"
      ],
      "metadata": {
        "id": "LlY6QouhtRC4"
      }
    },
    {
      "cell_type": "code",
      "source": [
        "# Function to fetch messages from the OpenAI Chat model\n",
        "def fetch_messages(message):\n",
        "    response = client.chat.completions.create(\n",
        "    model=\"model_deployment_name\", # model = \"deployment_name\"\n",
        "    messages = message,\n",
        "    temperature=0.7,\n",
        "    max_tokens=800,\n",
        "    top_p=0.95,\n",
        "    frequency_penalty=0,\n",
        "    presence_penalty=0,\n",
        "    stop=None\n",
        "    )\n",
        "    return response.choices[0].message.content"
      ],
      "metadata": {
        "id": "FFHtotJItZwR"
      },
      "execution_count": null,
      "outputs": []
    },
    {
      "cell_type": "code",
      "source": [
        "# Function to refresh and update the conversation context based on user input\n",
        "def refresh_conversation(chat):\n",
        "    context.append({'role': 'user', 'content': f\"{chat}\"})\n",
        "    response = fetch_messages(context)\n",
        "    context.append({'role': 'assistant', 'content': f\"{response}\"})\n",
        "    print(response)"
      ],
      "metadata": {
        "id": "0qPX5bAkt2cu"
      },
      "execution_count": null,
      "outputs": []
    },
    {
      "cell_type": "markdown",
      "source": [
        "# Engage with Chatbot"
      ],
      "metadata": {
        "id": "3P3CJzW1c0-i"
      }
    },
    {
      "cell_type": "code",
      "source": [
        "# Main loop to engage users in conversation\n",
        "def main():\n",
        "    while True:\n",
        "        message = input(\"Please enter a message (or 'exit' to leave): \")\n",
        "        if message.lower() == 'exit':\n",
        "            break\n",
        "        refresh_conversation(message)\n",
        "\n",
        "if __name__ == '__main__':\n",
        "    main()\n"
      ],
      "metadata": {
        "id": "mi6VfK22dnAp"
      },
      "execution_count": null,
      "outputs": []
    }
  ]
}