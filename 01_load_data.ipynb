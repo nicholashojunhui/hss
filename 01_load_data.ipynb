{
  "nbformat": 4,
  "nbformat_minor": 0,
  "metadata": {
    "kernelspec": {
      "display_name": "Python 3",
      "language": "python",
      "name": "python3"
    },
    "language_info": {
      "codemirror_mode": {
        "name": "ipython",
        "version": 3
      },
      "file_extension": ".py",
      "mimetype": "text/x-python",
      "name": "python",
      "nbconvert_exporter": "python",
      "pygments_lexer": "ipython3",
      "version": "3.7.3"
    },
    "colab": {
      "name": "01_load_data.ipynb",
      "provenance": [],
      "collapsed_sections": []
    }
  },
  "cells": [
    {
      "cell_type": "markdown",
      "metadata": {
        "id": "h7iHR4umAi4c"
      },
      "source": [
        "# Loading Kinoeva Data\n",
        "\n",
        "Loading and parsing text data exported from Kinovea\n",
        "\n",
        "This is the data that is exported as text format.  For example:\n",
        "\n",
        "```\n",
        "#Kinovea Trajectory data export\n",
        "#T X Y\n",
        "0:00:00:00 0.00 0.00 \n",
        "0:00:00:03 1.00 9.00 \n",
        "0:00:00:06 2.00 20.00 \n",
        "0:00:00:10 3.00 34.00 \n",
        "0:00:00:13 5.00 48.00 \n",
        "0:00:00:16 6.00 66.00 \n",
        "0:00:00:20 8.00 84.00 \n",
        "0:00:00:23 8.00 104.00 \n",
        "0:00:00:26 7.00 125.00 \n",
        "0:00:00:30 6.00 145.00 \n",
        "0:00:00:33 7.00 164.00 \n",
        "0:00:00:36 9.00 182.00 \n",
        "0:00:00:40 20.00 201.00 \n",
        "\n",
        "```"
      ]
    },
    {
      "cell_type": "code",
      "metadata": {
        "colab": {
          "base_uri": "https://localhost:8080/"
        },
        "id": "DnCivPTsIVr0",
        "outputId": "4d7aaa81-6eb6-417a-d278-4ab1f0680735"
      },
      "source": [
        "# If running from colab\n",
        "!git clone https://github.com/nicholashojunhui/hss"
      ],
      "execution_count": 55,
      "outputs": [
        {
          "output_type": "stream",
          "text": [
            "fatal: destination path 'hss' already exists and is not an empty directory.\n"
          ],
          "name": "stdout"
        }
      ]
    },
    {
      "cell_type": "code",
      "metadata": {
        "id": "XxSILz7sAi4d"
      },
      "source": [
        "import pandas as pd"
      ],
      "execution_count": 56,
      "outputs": []
    },
    {
      "cell_type": "code",
      "metadata": {
        "colab": {
          "base_uri": "https://localhost:8080/",
          "height": 238
        },
        "id": "SsnZSpxXAi4d",
        "outputId": "67d4eb2e-9c9f-43e3-b999-3c3dd7b744db"
      },
      "source": [
        "df = pd.read_csv('/content/hss/data/2/CFF Demo_ Underhand Vertical Med Ball Throw.txt', delim_whitespace=True, index_col=0)\n",
        "df.head()"
      ],
      "execution_count": 57,
      "outputs": [
        {
          "output_type": "execute_result",
          "data": {
            "text/html": [
              "<div>\n",
              "<style scoped>\n",
              "    .dataframe tbody tr th:only-of-type {\n",
              "        vertical-align: middle;\n",
              "    }\n",
              "\n",
              "    .dataframe tbody tr th {\n",
              "        vertical-align: top;\n",
              "    }\n",
              "\n",
              "    .dataframe thead th {\n",
              "        text-align: right;\n",
              "    }\n",
              "</style>\n",
              "<table border=\"1\" class=\"dataframe\">\n",
              "  <thead>\n",
              "    <tr style=\"text-align: right;\">\n",
              "      <th></th>\n",
              "      <th>Trajectory</th>\n",
              "      <th>data</th>\n",
              "      <th>export</th>\n",
              "    </tr>\n",
              "    <tr>\n",
              "      <th>#Kinovea</th>\n",
              "      <th></th>\n",
              "      <th></th>\n",
              "      <th></th>\n",
              "    </tr>\n",
              "  </thead>\n",
              "  <tbody>\n",
              "    <tr>\n",
              "      <th>#T</th>\n",
              "      <td>X</td>\n",
              "      <td>Y</td>\n",
              "      <td>NaN</td>\n",
              "    </tr>\n",
              "    <tr>\n",
              "      <th>0:00:00:00</th>\n",
              "      <td>0.00</td>\n",
              "      <td>0.00</td>\n",
              "      <td>NaN</td>\n",
              "    </tr>\n",
              "    <tr>\n",
              "      <th>0:00:00:03</th>\n",
              "      <td>1.00</td>\n",
              "      <td>9.00</td>\n",
              "      <td>NaN</td>\n",
              "    </tr>\n",
              "    <tr>\n",
              "      <th>0:00:00:06</th>\n",
              "      <td>2.00</td>\n",
              "      <td>20.00</td>\n",
              "      <td>NaN</td>\n",
              "    </tr>\n",
              "    <tr>\n",
              "      <th>0:00:00:10</th>\n",
              "      <td>3.00</td>\n",
              "      <td>34.00</td>\n",
              "      <td>NaN</td>\n",
              "    </tr>\n",
              "  </tbody>\n",
              "</table>\n",
              "</div>"
            ],
            "text/plain": [
              "           Trajectory   data  export\n",
              "#Kinovea                            \n",
              "#T                  X      Y     NaN\n",
              "0:00:00:00       0.00   0.00     NaN\n",
              "0:00:00:03       1.00   9.00     NaN\n",
              "0:00:00:06       2.00  20.00     NaN\n",
              "0:00:00:10       3.00  34.00     NaN"
            ]
          },
          "metadata": {
            "tags": []
          },
          "execution_count": 57
        }
      ]
    },
    {
      "cell_type": "code",
      "metadata": {
        "colab": {
          "base_uri": "https://localhost:8080/",
          "height": 238
        },
        "id": "qvCrfkmkAi4d",
        "outputId": "5686a319-b9ac-4bed-e953-be00e9524964"
      },
      "source": [
        "# drop last column\n",
        "df.drop(columns=['export'], inplace=True)\n",
        "df.head()"
      ],
      "execution_count": 58,
      "outputs": [
        {
          "output_type": "execute_result",
          "data": {
            "text/html": [
              "<div>\n",
              "<style scoped>\n",
              "    .dataframe tbody tr th:only-of-type {\n",
              "        vertical-align: middle;\n",
              "    }\n",
              "\n",
              "    .dataframe tbody tr th {\n",
              "        vertical-align: top;\n",
              "    }\n",
              "\n",
              "    .dataframe thead th {\n",
              "        text-align: right;\n",
              "    }\n",
              "</style>\n",
              "<table border=\"1\" class=\"dataframe\">\n",
              "  <thead>\n",
              "    <tr style=\"text-align: right;\">\n",
              "      <th></th>\n",
              "      <th>Trajectory</th>\n",
              "      <th>data</th>\n",
              "    </tr>\n",
              "    <tr>\n",
              "      <th>#Kinovea</th>\n",
              "      <th></th>\n",
              "      <th></th>\n",
              "    </tr>\n",
              "  </thead>\n",
              "  <tbody>\n",
              "    <tr>\n",
              "      <th>#T</th>\n",
              "      <td>X</td>\n",
              "      <td>Y</td>\n",
              "    </tr>\n",
              "    <tr>\n",
              "      <th>0:00:00:00</th>\n",
              "      <td>0.00</td>\n",
              "      <td>0.00</td>\n",
              "    </tr>\n",
              "    <tr>\n",
              "      <th>0:00:00:03</th>\n",
              "      <td>1.00</td>\n",
              "      <td>9.00</td>\n",
              "    </tr>\n",
              "    <tr>\n",
              "      <th>0:00:00:06</th>\n",
              "      <td>2.00</td>\n",
              "      <td>20.00</td>\n",
              "    </tr>\n",
              "    <tr>\n",
              "      <th>0:00:00:10</th>\n",
              "      <td>3.00</td>\n",
              "      <td>34.00</td>\n",
              "    </tr>\n",
              "  </tbody>\n",
              "</table>\n",
              "</div>"
            ],
            "text/plain": [
              "           Trajectory   data\n",
              "#Kinovea                    \n",
              "#T                  X      Y\n",
              "0:00:00:00       0.00   0.00\n",
              "0:00:00:03       1.00   9.00\n",
              "0:00:00:06       2.00  20.00\n",
              "0:00:00:10       3.00  34.00"
            ]
          },
          "metadata": {
            "tags": []
          },
          "execution_count": 58
        }
      ]
    },
    {
      "cell_type": "code",
      "metadata": {
        "colab": {
          "base_uri": "https://localhost:8080/",
          "height": 238
        },
        "id": "mPOK5dXCAi4e",
        "outputId": "f6a3d4f8-7aec-4f5e-ccc7-4b746a97983a"
      },
      "source": [
        "# replace column names\n",
        "df.columns = ['X', 'Y']\n",
        "df.head()"
      ],
      "execution_count": 59,
      "outputs": [
        {
          "output_type": "execute_result",
          "data": {
            "text/html": [
              "<div>\n",
              "<style scoped>\n",
              "    .dataframe tbody tr th:only-of-type {\n",
              "        vertical-align: middle;\n",
              "    }\n",
              "\n",
              "    .dataframe tbody tr th {\n",
              "        vertical-align: top;\n",
              "    }\n",
              "\n",
              "    .dataframe thead th {\n",
              "        text-align: right;\n",
              "    }\n",
              "</style>\n",
              "<table border=\"1\" class=\"dataframe\">\n",
              "  <thead>\n",
              "    <tr style=\"text-align: right;\">\n",
              "      <th></th>\n",
              "      <th>X</th>\n",
              "      <th>Y</th>\n",
              "    </tr>\n",
              "    <tr>\n",
              "      <th>#Kinovea</th>\n",
              "      <th></th>\n",
              "      <th></th>\n",
              "    </tr>\n",
              "  </thead>\n",
              "  <tbody>\n",
              "    <tr>\n",
              "      <th>#T</th>\n",
              "      <td>X</td>\n",
              "      <td>Y</td>\n",
              "    </tr>\n",
              "    <tr>\n",
              "      <th>0:00:00:00</th>\n",
              "      <td>0.00</td>\n",
              "      <td>0.00</td>\n",
              "    </tr>\n",
              "    <tr>\n",
              "      <th>0:00:00:03</th>\n",
              "      <td>1.00</td>\n",
              "      <td>9.00</td>\n",
              "    </tr>\n",
              "    <tr>\n",
              "      <th>0:00:00:06</th>\n",
              "      <td>2.00</td>\n",
              "      <td>20.00</td>\n",
              "    </tr>\n",
              "    <tr>\n",
              "      <th>0:00:00:10</th>\n",
              "      <td>3.00</td>\n",
              "      <td>34.00</td>\n",
              "    </tr>\n",
              "  </tbody>\n",
              "</table>\n",
              "</div>"
            ],
            "text/plain": [
              "               X      Y\n",
              "#Kinovea               \n",
              "#T             X      Y\n",
              "0:00:00:00  0.00   0.00\n",
              "0:00:00:03  1.00   9.00\n",
              "0:00:00:06  2.00  20.00\n",
              "0:00:00:10  3.00  34.00"
            ]
          },
          "metadata": {
            "tags": []
          },
          "execution_count": 59
        }
      ]
    },
    {
      "cell_type": "code",
      "metadata": {
        "colab": {
          "base_uri": "https://localhost:8080/",
          "height": 238
        },
        "id": "rLe-JiHfAi4e",
        "outputId": "28d34302-528c-45c7-cd27-43532a7d7149"
      },
      "source": [
        "# remove first row\n",
        "df.drop(['#T'], inplace=True)\n",
        "df.head()"
      ],
      "execution_count": 60,
      "outputs": [
        {
          "output_type": "execute_result",
          "data": {
            "text/html": [
              "<div>\n",
              "<style scoped>\n",
              "    .dataframe tbody tr th:only-of-type {\n",
              "        vertical-align: middle;\n",
              "    }\n",
              "\n",
              "    .dataframe tbody tr th {\n",
              "        vertical-align: top;\n",
              "    }\n",
              "\n",
              "    .dataframe thead th {\n",
              "        text-align: right;\n",
              "    }\n",
              "</style>\n",
              "<table border=\"1\" class=\"dataframe\">\n",
              "  <thead>\n",
              "    <tr style=\"text-align: right;\">\n",
              "      <th></th>\n",
              "      <th>X</th>\n",
              "      <th>Y</th>\n",
              "    </tr>\n",
              "    <tr>\n",
              "      <th>#Kinovea</th>\n",
              "      <th></th>\n",
              "      <th></th>\n",
              "    </tr>\n",
              "  </thead>\n",
              "  <tbody>\n",
              "    <tr>\n",
              "      <th>0:00:00:00</th>\n",
              "      <td>0.00</td>\n",
              "      <td>0.00</td>\n",
              "    </tr>\n",
              "    <tr>\n",
              "      <th>0:00:00:03</th>\n",
              "      <td>1.00</td>\n",
              "      <td>9.00</td>\n",
              "    </tr>\n",
              "    <tr>\n",
              "      <th>0:00:00:06</th>\n",
              "      <td>2.00</td>\n",
              "      <td>20.00</td>\n",
              "    </tr>\n",
              "    <tr>\n",
              "      <th>0:00:00:10</th>\n",
              "      <td>3.00</td>\n",
              "      <td>34.00</td>\n",
              "    </tr>\n",
              "    <tr>\n",
              "      <th>0:00:00:13</th>\n",
              "      <td>5.00</td>\n",
              "      <td>48.00</td>\n",
              "    </tr>\n",
              "  </tbody>\n",
              "</table>\n",
              "</div>"
            ],
            "text/plain": [
              "               X      Y\n",
              "#Kinovea               \n",
              "0:00:00:00  0.00   0.00\n",
              "0:00:00:03  1.00   9.00\n",
              "0:00:00:06  2.00  20.00\n",
              "0:00:00:10  3.00  34.00\n",
              "0:00:00:13  5.00  48.00"
            ]
          },
          "metadata": {
            "tags": []
          },
          "execution_count": 60
        }
      ]
    },
    {
      "cell_type": "code",
      "metadata": {
        "colab": {
          "base_uri": "https://localhost:8080/",
          "height": 238
        },
        "id": "PwLnDoxuAi4f",
        "outputId": "a4748f66-dd14-49e3-d216-1b1dc4f006b0"
      },
      "source": [
        "# rename index\n",
        "df.index.name = 'T'\n",
        "df.head()"
      ],
      "execution_count": 61,
      "outputs": [
        {
          "output_type": "execute_result",
          "data": {
            "text/html": [
              "<div>\n",
              "<style scoped>\n",
              "    .dataframe tbody tr th:only-of-type {\n",
              "        vertical-align: middle;\n",
              "    }\n",
              "\n",
              "    .dataframe tbody tr th {\n",
              "        vertical-align: top;\n",
              "    }\n",
              "\n",
              "    .dataframe thead th {\n",
              "        text-align: right;\n",
              "    }\n",
              "</style>\n",
              "<table border=\"1\" class=\"dataframe\">\n",
              "  <thead>\n",
              "    <tr style=\"text-align: right;\">\n",
              "      <th></th>\n",
              "      <th>X</th>\n",
              "      <th>Y</th>\n",
              "    </tr>\n",
              "    <tr>\n",
              "      <th>T</th>\n",
              "      <th></th>\n",
              "      <th></th>\n",
              "    </tr>\n",
              "  </thead>\n",
              "  <tbody>\n",
              "    <tr>\n",
              "      <th>0:00:00:00</th>\n",
              "      <td>0.00</td>\n",
              "      <td>0.00</td>\n",
              "    </tr>\n",
              "    <tr>\n",
              "      <th>0:00:00:03</th>\n",
              "      <td>1.00</td>\n",
              "      <td>9.00</td>\n",
              "    </tr>\n",
              "    <tr>\n",
              "      <th>0:00:00:06</th>\n",
              "      <td>2.00</td>\n",
              "      <td>20.00</td>\n",
              "    </tr>\n",
              "    <tr>\n",
              "      <th>0:00:00:10</th>\n",
              "      <td>3.00</td>\n",
              "      <td>34.00</td>\n",
              "    </tr>\n",
              "    <tr>\n",
              "      <th>0:00:00:13</th>\n",
              "      <td>5.00</td>\n",
              "      <td>48.00</td>\n",
              "    </tr>\n",
              "  </tbody>\n",
              "</table>\n",
              "</div>"
            ],
            "text/plain": [
              "               X      Y\n",
              "T                      \n",
              "0:00:00:00  0.00   0.00\n",
              "0:00:00:03  1.00   9.00\n",
              "0:00:00:06  2.00  20.00\n",
              "0:00:00:10  3.00  34.00\n",
              "0:00:00:13  5.00  48.00"
            ]
          },
          "metadata": {
            "tags": []
          },
          "execution_count": 61
        }
      ]
    },
    {
      "cell_type": "code",
      "metadata": {
        "colab": {
          "base_uri": "https://localhost:8080/",
          "height": 238
        },
        "id": "IJqs1GwyAi4f",
        "outputId": "81c6a06f-da88-46e3-9370-e1fba9b20044"
      },
      "source": [
        "# save the original timestamp as another column\n",
        "df['Original_timestamp'] = df.index\n",
        "\n",
        "# time units are in h:mm:ss:hundredth\n",
        "df.index = pd.to_timedelta(df.index.str.replace(r'(0:.*):(\\d+)', r'0\\1.\\2'), errors='coerce')\n",
        "df.head()"
      ],
      "execution_count": 62,
      "outputs": [
        {
          "output_type": "execute_result",
          "data": {
            "text/html": [
              "<div>\n",
              "<style scoped>\n",
              "    .dataframe tbody tr th:only-of-type {\n",
              "        vertical-align: middle;\n",
              "    }\n",
              "\n",
              "    .dataframe tbody tr th {\n",
              "        vertical-align: top;\n",
              "    }\n",
              "\n",
              "    .dataframe thead th {\n",
              "        text-align: right;\n",
              "    }\n",
              "</style>\n",
              "<table border=\"1\" class=\"dataframe\">\n",
              "  <thead>\n",
              "    <tr style=\"text-align: right;\">\n",
              "      <th></th>\n",
              "      <th>X</th>\n",
              "      <th>Y</th>\n",
              "      <th>Original_timestamp</th>\n",
              "    </tr>\n",
              "    <tr>\n",
              "      <th>T</th>\n",
              "      <th></th>\n",
              "      <th></th>\n",
              "      <th></th>\n",
              "    </tr>\n",
              "  </thead>\n",
              "  <tbody>\n",
              "    <tr>\n",
              "      <th>0 days 00:00:00</th>\n",
              "      <td>0.00</td>\n",
              "      <td>0.00</td>\n",
              "      <td>0:00:00:00</td>\n",
              "    </tr>\n",
              "    <tr>\n",
              "      <th>0 days 00:00:00.030000</th>\n",
              "      <td>1.00</td>\n",
              "      <td>9.00</td>\n",
              "      <td>0:00:00:03</td>\n",
              "    </tr>\n",
              "    <tr>\n",
              "      <th>0 days 00:00:00.060000</th>\n",
              "      <td>2.00</td>\n",
              "      <td>20.00</td>\n",
              "      <td>0:00:00:06</td>\n",
              "    </tr>\n",
              "    <tr>\n",
              "      <th>0 days 00:00:00.100000</th>\n",
              "      <td>3.00</td>\n",
              "      <td>34.00</td>\n",
              "      <td>0:00:00:10</td>\n",
              "    </tr>\n",
              "    <tr>\n",
              "      <th>0 days 00:00:00.130000</th>\n",
              "      <td>5.00</td>\n",
              "      <td>48.00</td>\n",
              "      <td>0:00:00:13</td>\n",
              "    </tr>\n",
              "  </tbody>\n",
              "</table>\n",
              "</div>"
            ],
            "text/plain": [
              "                           X      Y Original_timestamp\n",
              "T                                                     \n",
              "0 days 00:00:00         0.00   0.00         0:00:00:00\n",
              "0 days 00:00:00.030000  1.00   9.00         0:00:00:03\n",
              "0 days 00:00:00.060000  2.00  20.00         0:00:00:06\n",
              "0 days 00:00:00.100000  3.00  34.00         0:00:00:10\n",
              "0 days 00:00:00.130000  5.00  48.00         0:00:00:13"
            ]
          },
          "metadata": {
            "tags": []
          },
          "execution_count": 62
        }
      ]
    },
    {
      "cell_type": "code",
      "metadata": {
        "id": "W5cq3Tl-Ai4f"
      },
      "source": [
        "# If you want to convert to dates (non-offset)\n",
        "# https://pandas.pydata.org/pandas-docs/stable/reference/api/pandas.Period.strftime.html\n",
        "#\n",
        "# df.index = pd.to_datetime(df.index, format='0:%H:%M:%S', errors='coerce')\n",
        "# pd.to_datetime(df.index, format='0:%H:%M:%S', errors='coerce')"
      ],
      "execution_count": 63,
      "outputs": []
    },
    {
      "cell_type": "code",
      "metadata": {
        "colab": {
          "base_uri": "https://localhost:8080/"
        },
        "id": "-sqM-anyAi4g",
        "outputId": "4b985b71-cd26-4916-8d5a-a1f0f5eb35fd"
      },
      "source": [
        "# convert to numeric\n",
        "df = df.apply(pd.to_numeric, errors='coerce', axis=1)\n",
        "df.info()"
      ],
      "execution_count": 64,
      "outputs": [
        {
          "output_type": "stream",
          "text": [
            "<class 'pandas.core.frame.DataFrame'>\n",
            "TimedeltaIndex: 160 entries, 0 days 00:00:00 to 0 days 00:00:05.300000\n",
            "Data columns (total 3 columns):\n",
            " #   Column              Non-Null Count  Dtype  \n",
            "---  ------              --------------  -----  \n",
            " 0   X                   160 non-null    float64\n",
            " 1   Y                   160 non-null    float64\n",
            " 2   Original_timestamp  0 non-null      float64\n",
            "dtypes: float64(3)\n",
            "memory usage: 5.0 KB\n"
          ],
          "name": "stdout"
        }
      ]
    },
    {
      "cell_type": "code",
      "metadata": {
        "id": "AXuO1mC5Ai4g"
      },
      "source": [
        "# The above is quite a bit of code, so maybe easier to organize in \n",
        "# a function for reusability.  See utils.py"
      ],
      "execution_count": 65,
      "outputs": []
    },
    {
      "cell_type": "markdown",
      "metadata": {
        "id": "oYBU5THlKHly"
      },
      "source": [
        "# **Ensure `utils.py` file is within the content folder first before continuing**"
      ]
    },
    {
      "cell_type": "code",
      "metadata": {
        "colab": {
          "base_uri": "https://localhost:8080/",
          "height": 440
        },
        "id": "pZWbeD8FAi4g",
        "outputId": "33812c5d-f613-44bf-faae-320225fbea52"
      },
      "source": [
        "from utils import read_kinoeva\n",
        "df = read_kinoeva('/content/hss/data/2/CFF Demo_ Underhand Vertical Med Ball Throw.txt')\n",
        "\n",
        "print(df.info())\n",
        "df.head()"
      ],
      "execution_count": 66,
      "outputs": [
        {
          "output_type": "stream",
          "text": [
            "<class 'pandas.core.frame.DataFrame'>\n",
            "TimedeltaIndex: 160 entries, 0 days 00:00:00 to 0 days 00:00:05.300000\n",
            "Data columns (total 3 columns):\n",
            " #   Column              Non-Null Count  Dtype  \n",
            "---  ------              --------------  -----  \n",
            " 0   X                   160 non-null    float64\n",
            " 1   Y                   160 non-null    float64\n",
            " 2   Original_timestamp  160 non-null    object \n",
            "dtypes: float64(2), object(1)\n",
            "memory usage: 5.0+ KB\n",
            "None\n"
          ],
          "name": "stdout"
        },
        {
          "output_type": "execute_result",
          "data": {
            "text/html": [
              "<div>\n",
              "<style scoped>\n",
              "    .dataframe tbody tr th:only-of-type {\n",
              "        vertical-align: middle;\n",
              "    }\n",
              "\n",
              "    .dataframe tbody tr th {\n",
              "        vertical-align: top;\n",
              "    }\n",
              "\n",
              "    .dataframe thead th {\n",
              "        text-align: right;\n",
              "    }\n",
              "</style>\n",
              "<table border=\"1\" class=\"dataframe\">\n",
              "  <thead>\n",
              "    <tr style=\"text-align: right;\">\n",
              "      <th></th>\n",
              "      <th>X</th>\n",
              "      <th>Y</th>\n",
              "      <th>Original_timestamp</th>\n",
              "    </tr>\n",
              "    <tr>\n",
              "      <th>T</th>\n",
              "      <th></th>\n",
              "      <th></th>\n",
              "      <th></th>\n",
              "    </tr>\n",
              "  </thead>\n",
              "  <tbody>\n",
              "    <tr>\n",
              "      <th>0 days 00:00:00</th>\n",
              "      <td>0.0</td>\n",
              "      <td>0.0</td>\n",
              "      <td>0:00:00:00</td>\n",
              "    </tr>\n",
              "    <tr>\n",
              "      <th>0 days 00:00:00.030000</th>\n",
              "      <td>1.0</td>\n",
              "      <td>9.0</td>\n",
              "      <td>0:00:00:03</td>\n",
              "    </tr>\n",
              "    <tr>\n",
              "      <th>0 days 00:00:00.060000</th>\n",
              "      <td>2.0</td>\n",
              "      <td>20.0</td>\n",
              "      <td>0:00:00:06</td>\n",
              "    </tr>\n",
              "    <tr>\n",
              "      <th>0 days 00:00:00.100000</th>\n",
              "      <td>3.0</td>\n",
              "      <td>34.0</td>\n",
              "      <td>0:00:00:10</td>\n",
              "    </tr>\n",
              "    <tr>\n",
              "      <th>0 days 00:00:00.130000</th>\n",
              "      <td>5.0</td>\n",
              "      <td>48.0</td>\n",
              "      <td>0:00:00:13</td>\n",
              "    </tr>\n",
              "  </tbody>\n",
              "</table>\n",
              "</div>"
            ],
            "text/plain": [
              "                          X     Y Original_timestamp\n",
              "T                                                   \n",
              "0 days 00:00:00         0.0   0.0         0:00:00:00\n",
              "0 days 00:00:00.030000  1.0   9.0         0:00:00:03\n",
              "0 days 00:00:00.060000  2.0  20.0         0:00:00:06\n",
              "0 days 00:00:00.100000  3.0  34.0         0:00:00:10\n",
              "0 days 00:00:00.130000  5.0  48.0         0:00:00:13"
            ]
          },
          "metadata": {
            "tags": []
          },
          "execution_count": 66
        }
      ]
    }
  ]
}